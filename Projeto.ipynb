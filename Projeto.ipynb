{
 "cells": [
  {
   "cell_type": "code",
   "execution_count": null,
   "metadata": {},
   "outputs": [],
   "source": [
    "                ANÁLISE DA CONDIÇÃO DE UNIVERSITÁRIOS RECÉM GRADUADOS NO MERCADO DE TRABALHO"
   ]
  },
  {
   "cell_type": "code",
   "execution_count": null,
   "metadata": {},
   "outputs": [],
   "source": [
    "    Justificativa\n",
    "\n",
    "    Uma das principais principais preocupações de um universitário é o mercado de trabalho que o aguarda, dito isto é de grande valia conhecer a área em que futuramente se pretende atuar, e como está a situação de outros.\n",
    "\n",
    "\n",
    "    Objetivo\n",
    "\n",
    "    O trabalho desenvolvido tem como principal objetivo realizar uma análise das condições de recém formados no mercado de trabalho.\n",
    "\n",
    "\n",
    "    Metodologia\n",
    "\n",
    "    Utilizando dados obtidos em https://data.world/dataquest/salaries-of-recent-college-graduates/ e através destes dados foi feito um banco relacional e através da consulta deste banco obter analises baseadas no critério escolhido pelo usuário.\n",
    "\n",
    "\n",
    "    Resultados\n",
    "\n",
    "* Programa desenvolvido;\n",
    "* Geração de resposta em forma de lista deacordo com a análise requisitada.\n",
    "\n",
    "    Referências\n",
    "\n",
    "DATAWORLD. Salaries of Recent College Graduates. Disponível em: https://data.world/dataquest/salaries-of-recent-college-graduates/. Acesso em: Maio/2018."
   ]
  }
 ],
 "metadata": {
  "kernelspec": {
   "display_name": "Python 3",
   "language": "python",
   "name": "python3"
  },
  "language_info": {
   "codemirror_mode": {
    "name": "ipython",
    "version": 3
   },
   "file_extension": ".py",
   "mimetype": "text/x-python",
   "name": "python",
   "nbconvert_exporter": "python",
   "pygments_lexer": "ipython3",
   "version": "3.6.4"
  }
 },
 "nbformat": 4,
 "nbformat_minor": 2
}
